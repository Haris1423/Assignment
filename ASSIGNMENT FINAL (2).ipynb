{
 "cells": [
  {
   "cell_type": "code",
   "execution_count": 2,
   "id": "70a73472-dad0-46d3-aa37-dadbe0a2258c",
   "metadata": {},
   "outputs": [
    {
     "name": "stdout",
     "output_type": "stream",
     "text": [
      "apple\n",
      "banana\n",
      "cherry\n",
      "0\n",
      "1\n",
      "2\n",
      "3\n",
      "4\n"
     ]
    }
   ],
   "source": [
    "#Q1.For Loop Example:\n",
    "\n",
    "'''Use a for loop when you know the number of iterations in advance. For example, when iterating over elements in a list:'''\n",
    "fruits = [\"apple\", \"banana\", \"cherry\"]\n",
    "for fruit in fruits:\n",
    "    print(fruit)\n",
    " #While Loop Example:\n",
    "\n",
    "'''Use a while loop when you don't know the number of iterations in advance or when you need to iterate until a specific condition is met:'''  \n",
    "count = 0\n",
    "while count < 5:\n",
    "    print(count)\n",
    "    count =count+ 1   "
   ]
  },
  {
   "cell_type": "code",
   "execution_count": 3,
   "id": "2ca099e4-3d05-4ece-990f-c141ac27658c",
   "metadata": {},
   "outputs": [
    {
     "name": "stdout",
     "output_type": "stream",
     "text": [
      "55\n",
      "3628800\n",
      "55\n",
      "3628800\n"
     ]
    }
   ],
   "source": [
    "#Q2\n",
    "#SUM FOR LOOP \n",
    "sum=0\n",
    "for i in range(1,11):\n",
    "    sum=sum+i\n",
    "print(sum)  \n",
    "#product using for loop \n",
    "product=1\n",
    "for i in range(1,11):\n",
    "    product=product*i\n",
    "product    \n",
    "print(product)\n",
    "\n",
    "#sum using while loop \n",
    "sum=0\n",
    "i=1\n",
    "while i<=10:\n",
    "    sum=sum+i\n",
    "    i=i+1    \n",
    "print(sum)\n",
    "#product using while loop\n",
    "i=1\n",
    "product=1\n",
    "while i<=10:\n",
    "    product=product*i\n",
    "    i=i+1\n",
    "print(product)    "
   ]
  },
  {
   "cell_type": "code",
   "execution_count": 4,
   "id": "4e08c7de-f16c-424a-ac52-0bd7d1b7de96",
   "metadata": {},
   "outputs": [
    {
     "name": "stdin",
     "output_type": "stream",
     "text": [
      "Enter Your Bill 310\n"
     ]
    },
    {
     "name": "stdout",
     "output_type": "stream",
     "text": [
      "2250.0\n"
     ]
    }
   ],
   "source": [
    "#Q3\n",
    "bill=int(input(\"Enter Your Bill\"))\n",
    "if bill<=100:\n",
    "    print(bill*4.5)\n",
    "elif bill>100 and bill<=200:\n",
    "    print(100*4.5+(bill-100)*6)\n",
    "elif bill>200 and bill<=300:\n",
    "    print(100*4.5+100*6+(bill-200)*10)\n",
    "else:\n",
    "    print(100*4.5+100*6+100*10+(bill-300)*20)  "
   ]
  },
  {
   "cell_type": "code",
   "execution_count": 5,
   "id": "a77f9e9e-ccb3-4145-aac2-eaffdfccb618",
   "metadata": {},
   "outputs": [
    {
     "name": "stdout",
     "output_type": "stream",
     "text": [
      "[8, 64, 125, 216, 512, 1000, 1728, 2744, 3375, 4096, 5832, 8000, 10648, 13824, 15625, 17576, 21952, 27000, 32768, 39304, 42875, 46656, 54872, 64000, 74088, 85184, 91125, 97336, 110592, 125000, 140608, 157464, 166375, 175616, 195112, 216000, 238328, 262144, 274625, 287496, 314432, 343000, 373248, 405224, 421875, 438976, 474552, 512000, 551368, 592704, 614125, 636056, 681472, 729000, 778688, 830584, 857375, 884736, 941192, 1000000]\n",
      "[8, 64, 125, 216, 512, 1000, 1728, 2744, 3375, 4096, 5832, 8000, 10648, 13824, 15625, 17576, 21952, 27000, 32768, 39304, 42875, 46656, 54872, 64000, 74088, 85184, 91125, 97336, 110592, 125000, 140608, 157464, 166375, 175616, 195112, 216000, 238328, 262144, 274625, 287496, 314432, 343000, 373248, 405224, 421875, 438976, 474552, 512000, 551368, 592704, 614125, 636056, 681472, 729000, 778688, 830584, 857375, 884736, 941192, 1000000]\n"
     ]
    }
   ],
   "source": [
    "#Q4#using while loop\n",
    "i = 1\n",
    "l1 = []\n",
    "while i <= 100:\n",
    "    cube = i ** 3\n",
    "    if cube % 4 == 0 or cube % 5 == 0:\n",
    "        l1.append(cube)\n",
    "    i = i + 1\n",
    "\n",
    "print(l1)\n",
    "\n",
    "#using for loop\n",
    "l2=[]\n",
    "for i in range(1,101):\n",
    "    cube=i**3\n",
    "    if cube % 5 == 0 or cube % 4 == 0:\n",
    "        l2.append(cube)\n",
    "print(l2)"
   ]
  },
  {
   "cell_type": "code",
   "execution_count": 6,
   "id": "73f7a067-4902-44b5-80b3-d44984f56e73",
   "metadata": {},
   "outputs": [
    {
     "name": "stdout",
     "output_type": "stream",
     "text": [
      "12\n",
      "12\n"
     ]
    }
   ],
   "source": [
    " #Q5 #For loop\n",
    "string = \"I want to become a data scientist\"\n",
    "vowels=\"aeiouAEIOU\"\n",
    "count=0\n",
    "for i in string:\n",
    "    if i in vowels:\n",
    "        count=count+1\n",
    "print(count)      \n",
    " \n",
    " \n",
    " #while loop\n",
    "string = \"I want to become a data scientist\"\n",
    "vowels=\"aeiouAEIOU\"\n",
    "index=0\n",
    "count=0\n",
    "while index<len(string):\n",
    "    if string[index] in vowels:\n",
    "        count=count+1\n",
    "    index=index+1\n",
    "print(count)    \n",
    "        "
   ]
  },
  {
   "cell_type": "code",
   "execution_count": null,
   "id": "913d87e7-6c41-43d8-b120-c77d284eb6a7",
   "metadata": {},
   "outputs": [],
   "source": []
  }
 ],
 "metadata": {
  "kernelspec": {
   "display_name": "Python 3 (ipykernel)",
   "language": "python",
   "name": "python3"
  },
  "language_info": {
   "codemirror_mode": {
    "name": "ipython",
    "version": 3
   },
   "file_extension": ".py",
   "mimetype": "text/x-python",
   "name": "python",
   "nbconvert_exporter": "python",
   "pygments_lexer": "ipython3",
   "version": "3.10.8"
  }
 },
 "nbformat": 4,
 "nbformat_minor": 5
}
